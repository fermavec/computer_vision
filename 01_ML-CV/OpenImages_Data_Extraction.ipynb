{
 "cells": [
  {
   "cell_type": "code",
   "execution_count": 1,
   "id": "511e8bba-130b-4637-a363-70a1a992bb5d",
   "metadata": {},
   "outputs": [],
   "source": [
    "import requests"
   ]
  },
  {
   "cell_type": "code",
   "execution_count": 2,
   "id": "f5ea313d-6761-4d4b-a5f4-144390f451cf",
   "metadata": {},
   "outputs": [],
   "source": [
    "# Lista de URLs de descarga del Open Images Dataset\n",
    "urls = [\n",
    "    'https://storage.googleapis.com/openimages/2018_04/train/train-images-boxable.csv',\n",
    "    'https://storage.googleapis.com/openimages/2018_04/train/train-annotations-bbox.csv',\n",
    "    'https://storage.googleapis.com/openimages/2018_04/validation/validation-images.csv',\n",
    "    'https://storage.googleapis.com/openimages/2018_04/validation/validation-annotations-bbox.csv',\n",
    "    'https://storage.googleapis.com/openimages/2018_04/test/test-images.csv',\n",
    "    'https://storage.googleapis.com/openimages/2018_04/test/test-annotations-bbox.csv'\n",
    "]"
   ]
  },
  {
   "cell_type": "code",
   "execution_count": 3,
   "id": "41aa7008-40e2-4947-9b4b-bd3517b599bf",
   "metadata": {},
   "outputs": [],
   "source": [
    "# Función para descargar un archivo\n",
    "def download_file(url, save_path):\n",
    "    response = requests.get(url, stream=True)\n",
    "    response.raise_for_status()\n",
    "    with open(save_path, 'wb') as file:\n",
    "        for chunk in response.iter_content(chunk_size=8192):\n",
    "            file.write(chunk)\n",
    "    print(f'Download completed: {save_path}')"
   ]
  },
  {
   "cell_type": "code",
   "execution_count": 4,
   "id": "07563c6a-007c-4cb2-8ae0-990ad8b27d26",
   "metadata": {},
   "outputs": [],
   "source": [
    "# Parsear el contenido HTML de la página\n",
    "soup = BeautifulSoup(response.content, 'html.parser')"
   ]
  },
  {
   "cell_type": "code",
   "execution_count": 5,
   "id": "496bd7ca-805c-411e-8b22-c3c1c6c0ae0c",
   "metadata": {},
   "outputs": [],
   "source": [
    "# Encontrar todos los enlaces de descarga\n",
    "download_links = []\n",
    "for a_tag in soup.find_all('a', href=True):\n",
    "    href = a_tag['href']\n",
    "    if 'download' in href:  # Filtrar enlaces que contienen 'download'\n",
    "        download_links.append(href)"
   ]
  },
  {
   "cell_type": "code",
   "execution_count": 6,
   "id": "7ffc1089-f892-4ea1-9ccb-5aa9b944f440",
   "metadata": {},
   "outputs": [
    {
     "name": "stdout",
     "output_type": "stream",
     "text": [
      "download_v7.html\n"
     ]
    }
   ],
   "source": [
    "# Imprimir los enlaces de descarga encontrados\n",
    "for link in download_links:\n",
    "    print(link)"
   ]
  },
  {
   "cell_type": "code",
   "execution_count": 7,
   "id": "8287bc00-d346-465c-813e-101f4f145426",
   "metadata": {},
   "outputs": [],
   "source": [
    "# Opcional: Descargar un archivo específico\n",
    "def download_file(url, save_path):\n",
    "    response = requests.get(url, stream=True)\n",
    "    response.raise_for_status()\n",
    "    with open(save_path, 'wb') as file:\n",
    "        for chunk in response.iter_content(chunk_size=8192):\n",
    "            file.write(chunk)\n",
    "    print(f'Download completed: {save_path}')"
   ]
  },
  {
   "cell_type": "code",
   "execution_count": 4,
   "id": "d480863a-5e40-454c-9ba2-8d31d41acb4e",
   "metadata": {},
   "outputs": [
    {
     "name": "stdout",
     "output_type": "stream",
     "text": [
      "Download completed: train-images-boxable.csv\n",
      "Download completed: train-annotations-bbox.csv\n",
      "Download completed: validation-images.csv\n",
      "Download completed: validation-annotations-bbox.csv\n",
      "Download completed: test-images.csv\n",
      "Download completed: test-annotations-bbox.csv\n"
     ]
    }
   ],
   "source": [
    "# Descargar todos los archivos de la lista\n",
    "for url in urls:\n",
    "    file_name = url.split('/')[-1]\n",
    "    download_file(url, file_name)"
   ]
  },
  {
   "cell_type": "code",
   "execution_count": null,
   "id": "8278a8c0-490b-4846-9f63-4da0af092fa5",
   "metadata": {},
   "outputs": [],
   "source": []
  }
 ],
 "metadata": {
  "kernelspec": {
   "display_name": "Python 3 (ipykernel)",
   "language": "python",
   "name": "python3"
  },
  "language_info": {
   "codemirror_mode": {
    "name": "ipython",
    "version": 3
   },
   "file_extension": ".py",
   "mimetype": "text/x-python",
   "name": "python",
   "nbconvert_exporter": "python",
   "pygments_lexer": "ipython3",
   "version": "3.11.4"
  }
 },
 "nbformat": 4,
 "nbformat_minor": 5
}
