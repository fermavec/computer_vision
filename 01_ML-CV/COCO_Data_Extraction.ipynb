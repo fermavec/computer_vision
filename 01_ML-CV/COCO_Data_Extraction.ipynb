{
 "cells": [
  {
   "cell_type": "code",
   "execution_count": 8,
   "id": "1d77e901-7c2b-4166-ac41-c5ffbf379ea2",
   "metadata": {},
   "outputs": [],
   "source": [
    "import requests\n",
    "import pandas as pd\n",
    "import numpy as np\n",
    "import matplotlib.pyplot as plt\n",
    "import json\n",
    "import zipfile\n",
    "import os"
   ]
  },
  {
   "cell_type": "code",
   "execution_count": 3,
   "id": "a3b6cd52-6734-4146-92cd-c1a5dd3d7406",
   "metadata": {},
   "outputs": [],
   "source": [
    "# Función para descargar los datos\n",
    "def download_coco_data(url, save_path):\n",
    "    response = requests.get(url, stream=True)\n",
    "    with open(save_path, 'wb') as file:\n",
    "        for chunk in response.iter_content(chunk_size=8192):\n",
    "            file.write(chunk)\n",
    "    print(f'Data downloaded to {save_path}')"
   ]
  },
  {
   "cell_type": "code",
   "execution_count": 4,
   "id": "5843d2b1-dfe3-4641-8603-676368ecf4e7",
   "metadata": {},
   "outputs": [],
   "source": [
    "# URL base para descargar el dataset de COCO\n",
    "base_url = 'http://images.cocodataset.org/annotations/annotations_trainval2017.zip'"
   ]
  },
  {
   "cell_type": "code",
   "execution_count": 7,
   "id": "1153187b-2dc8-4c93-a5ad-85183485d599",
   "metadata": {},
   "outputs": [
    {
     "name": "stdout",
     "output_type": "stream",
     "text": [
      "Data downloaded to ../01_ML-CV/data/coco_annotations_trainval2017.zip\n"
     ]
    }
   ],
   "source": [
    "# Descargar los datos del dataset de COCO\n",
    "save_path = '../01_ML-CV/data/coco_annotations_trainval2017.zip'\n",
    "download_coco_data(base_url, save_path)"
   ]
  },
  {
   "cell_type": "code",
   "execution_count": 9,
   "id": "3e51cc45-1007-4b12-92c1-bd7de43b3906",
   "metadata": {},
   "outputs": [
    {
     "name": "stdout",
     "output_type": "stream",
     "text": [
      "Data extracted to coco_data/\n"
     ]
    }
   ],
   "source": [
    "with zipfile.ZipFile(save_path, 'r') as zip_ref:\n",
    "    zip_ref.extractall('coco_data')\n",
    "    print('Data extracted to coco_data/')"
   ]
  },
  {
   "cell_type": "code",
   "execution_count": 10,
   "id": "5c181e8f-93db-4149-a180-c2c1a7902826",
   "metadata": {},
   "outputs": [],
   "source": [
    "# Cargar y leer el archivo JSON de anotaciones\n",
    "annotations_path = 'coco_data/annotations/instances_val2017.json'\n",
    "with open(annotations_path, 'r') as file:\n",
    "    coco_data = json.load(file)"
   ]
  },
  {
   "cell_type": "code",
   "execution_count": 11,
   "id": "3907d17c-54f8-46b9-97af-50874201f8be",
   "metadata": {},
   "outputs": [
    {
     "name": "stdout",
     "output_type": "stream",
     "text": [
      "Number of images: 5000\n",
      "Number of annotations: 36781\n",
      "Number of categories: 80\n"
     ]
    }
   ],
   "source": [
    "# Imprimir algunas estadísticas básicas\n",
    "print(f\"Number of images: {len(coco_data['images'])}\")\n",
    "print(f\"Number of annotations: {len(coco_data['annotations'])}\")\n",
    "print(f\"Number of categories: {len(coco_data['categories'])}\")"
   ]
  },
  {
   "cell_type": "code",
   "execution_count": 12,
   "id": "400e759e-b7fa-419c-8462-959536776265",
   "metadata": {},
   "outputs": [
    {
     "name": "stdout",
     "output_type": "stream",
     "text": [
      "Categories:\n",
      "ID: 1, Name: person\n",
      "ID: 2, Name: bicycle\n",
      "ID: 3, Name: car\n",
      "ID: 4, Name: motorcycle\n",
      "ID: 5, Name: airplane\n",
      "ID: 6, Name: bus\n",
      "ID: 7, Name: train\n",
      "ID: 8, Name: truck\n",
      "ID: 9, Name: boat\n",
      "ID: 10, Name: traffic light\n",
      "ID: 11, Name: fire hydrant\n",
      "ID: 13, Name: stop sign\n",
      "ID: 14, Name: parking meter\n",
      "ID: 15, Name: bench\n",
      "ID: 16, Name: bird\n",
      "ID: 17, Name: cat\n",
      "ID: 18, Name: dog\n",
      "ID: 19, Name: horse\n",
      "ID: 20, Name: sheep\n",
      "ID: 21, Name: cow\n",
      "ID: 22, Name: elephant\n",
      "ID: 23, Name: bear\n",
      "ID: 24, Name: zebra\n",
      "ID: 25, Name: giraffe\n",
      "ID: 27, Name: backpack\n",
      "ID: 28, Name: umbrella\n",
      "ID: 31, Name: handbag\n",
      "ID: 32, Name: tie\n",
      "ID: 33, Name: suitcase\n",
      "ID: 34, Name: frisbee\n",
      "ID: 35, Name: skis\n",
      "ID: 36, Name: snowboard\n",
      "ID: 37, Name: sports ball\n",
      "ID: 38, Name: kite\n",
      "ID: 39, Name: baseball bat\n",
      "ID: 40, Name: baseball glove\n",
      "ID: 41, Name: skateboard\n",
      "ID: 42, Name: surfboard\n",
      "ID: 43, Name: tennis racket\n",
      "ID: 44, Name: bottle\n",
      "ID: 46, Name: wine glass\n",
      "ID: 47, Name: cup\n",
      "ID: 48, Name: fork\n",
      "ID: 49, Name: knife\n",
      "ID: 50, Name: spoon\n",
      "ID: 51, Name: bowl\n",
      "ID: 52, Name: banana\n",
      "ID: 53, Name: apple\n",
      "ID: 54, Name: sandwich\n",
      "ID: 55, Name: orange\n",
      "ID: 56, Name: broccoli\n",
      "ID: 57, Name: carrot\n",
      "ID: 58, Name: hot dog\n",
      "ID: 59, Name: pizza\n",
      "ID: 60, Name: donut\n",
      "ID: 61, Name: cake\n",
      "ID: 62, Name: chair\n",
      "ID: 63, Name: couch\n",
      "ID: 64, Name: potted plant\n",
      "ID: 65, Name: bed\n",
      "ID: 67, Name: dining table\n",
      "ID: 70, Name: toilet\n",
      "ID: 72, Name: tv\n",
      "ID: 73, Name: laptop\n",
      "ID: 74, Name: mouse\n",
      "ID: 75, Name: remote\n",
      "ID: 76, Name: keyboard\n",
      "ID: 77, Name: cell phone\n",
      "ID: 78, Name: microwave\n",
      "ID: 79, Name: oven\n",
      "ID: 80, Name: toaster\n",
      "ID: 81, Name: sink\n",
      "ID: 82, Name: refrigerator\n",
      "ID: 84, Name: book\n",
      "ID: 85, Name: clock\n",
      "ID: 86, Name: vase\n",
      "ID: 87, Name: scissors\n",
      "ID: 88, Name: teddy bear\n",
      "ID: 89, Name: hair drier\n",
      "ID: 90, Name: toothbrush\n"
     ]
    }
   ],
   "source": [
    "# Imprimir las categorías disponibles\n",
    "print(\"Categories:\")\n",
    "for category in coco_data['categories']:\n",
    "    print(f\"ID: {category['id']}, Name: {category['name']}\")"
   ]
  },
  {
   "cell_type": "code",
   "execution_count": 13,
   "id": "b8e99b14-74cc-4b48-ab0e-5a974705567e",
   "metadata": {},
   "outputs": [
    {
     "name": "stdout",
     "output_type": "stream",
     "text": [
      "First image info:\n",
      "ID: 397133\n",
      "File name: 000000397133.jpg\n",
      "Width: 640\n",
      "Height: 427\n"
     ]
    }
   ],
   "source": [
    "# Imprimir información de la primera imagen\n",
    "first_image = coco_data['images'][0]\n",
    "print(f\"First image info:\\nID: {first_image['id']}\\nFile name: {first_image['file_name']}\\nWidth: {first_image['width']}\\nHeight: {first_image['height']}\")"
   ]
  },
  {
   "cell_type": "markdown",
   "id": "054385b8-2c63-4501-8aa9-558d28e8df9b",
   "metadata": {},
   "source": [
    "# Archivos JSON del Dataset COCO y sus Contenidos\n",
    "\n",
    "## instances_train2017.json\n",
    "- **Descripción**: Contiene anotaciones de los objetos en las imágenes del conjunto de entrenamiento de 2017.\n",
    "- **Datos**:\n",
    "  - **images**: Lista de imágenes con sus metadatos.\n",
    "    - `id`: Identificador único de la imagen.\n",
    "    - `width`: Ancho de la imagen.\n",
    "    - `height`: Alto de la imagen.\n",
    "    - `file_name`: Nombre del archivo de la imagen.\n",
    "    - Otros metadatos como `license` y `date_captured`.\n",
    "  - **annotations**: Lista de anotaciones de los objetos en las imágenes.\n",
    "    - `id`: Identificador único de la anotación.\n",
    "    - `image_id`: Identificador de la imagen a la que pertenece la anotación.\n",
    "    - `category_id`: Identificador de la categoría del objeto anotado.\n",
    "    - `bbox`: Caja delimitadora del objeto (coordenadas [x, y, width, height]).\n",
    "    - `segmentation`: Información de segmentación del objeto (si está disponible).\n",
    "    - `area`: Área del objeto anotado.\n",
    "    - `iscrowd`: Indicador de si el objeto es un grupo de objetos.\n",
    "  - **categories**: Lista de categorías de los objetos anotados.\n",
    "    - `id`: Identificador único de la categoría.\n",
    "    - `name`: Nombre de la categoría.\n",
    "    - `supercategory`: Supercategoría a la que pertenece la categoría (opcional).\n",
    "\n",
    "## instances_val2017.json\n",
    "- **Descripción**: Contiene anotaciones de los objetos en las imágenes del conjunto de validación de 2017.\n",
    "- **Datos**:\n",
    "  - **images**: Lista de imágenes con sus metadatos.\n",
    "    - `id`: Identificador único de la imagen.\n",
    "    - `width`: Ancho de la imagen.\n",
    "    - `height`: Alto de la imagen.\n",
    "    - `file_name`: Nombre del archivo de la imagen.\n",
    "    - Otros metadatos como `license` y `date_captured`.\n",
    "  - **annotations**: Lista de anotaciones de los objetos en las imágenes.\n",
    "    - `id`: Identificador único de la anotación.\n",
    "    - `image_id`: Identificador de la imagen a la que pertenece la anotación.\n",
    "    - `category_id`: Identificador de la categoría del objeto anotado.\n",
    "    - `bbox`: Caja delimitadora del objeto (coordenadas [x, y, width, height]).\n",
    "    - `segmentation`: Información de segmentación del objeto (si está disponible).\n",
    "    - `area`: Área del objeto anotado.\n",
    "    - `iscrowd`: Indicador de si el objeto es un grupo de objetos.\n",
    "  - **categories**: Lista de categorías de los objetos anotados.\n",
    "    - `id`: Identificador único de la categoría.\n",
    "    - `name`: Nombre de la categoría.\n",
    "    - `supercategory`: Supercategoría a la que pertenece la categoría (opcional).\n",
    "\n",
    "## image_info_test2017.json\n",
    "- **Descripción**: Contiene información de las imágenes del conjunto de prueba de 2017.\n",
    "- **Datos**:\n",
    "  - **images**: Lista de imágenes con sus metadatos.\n",
    "    - `id`: Identificador único de la imagen.\n",
    "    - `width`: Ancho de la imagen.\n",
    "    - `height`: Alto de la imagen.\n",
    "    - `file_name`: Nombre del archivo de la imagen.\n",
    "    - Otros metadatos como `license` y `date_captured`.\n"
   ]
  },
  {
   "cell_type": "code",
   "execution_count": null,
   "id": "430f8733-78af-4208-9c91-a1231312c37a",
   "metadata": {},
   "outputs": [],
   "source": []
  }
 ],
 "metadata": {
  "kernelspec": {
   "display_name": "Python 3 (ipykernel)",
   "language": "python",
   "name": "python3"
  },
  "language_info": {
   "codemirror_mode": {
    "name": "ipython",
    "version": 3
   },
   "file_extension": ".py",
   "mimetype": "text/x-python",
   "name": "python",
   "nbconvert_exporter": "python",
   "pygments_lexer": "ipython3",
   "version": "3.11.4"
  }
 },
 "nbformat": 4,
 "nbformat_minor": 5
}
